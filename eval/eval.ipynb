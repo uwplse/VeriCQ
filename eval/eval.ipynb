{
 "cells": [
  {
   "cell_type": "code",
   "execution_count": 53,
   "metadata": {
    "collapsed": false
   },
   "outputs": [],
   "source": [
    "import csv\n",
    "with open('eval.csv', 'r') as csvfile:\n",
    "    data = list(csv.reader(csvfile, delimiter=' '))\n",
    "    rosette = list(zip(*[(int(d[1]),int(d[2]) / 1000) for d in data if d[0] == 'rosette']))\n",
    "    native  = list(zip(*[(int(d[1]),int(d[2]) / 1000) for d in data if d[0] == 'native' ]))"
   ]
  },
  {
   "cell_type": "code",
   "execution_count": 54,
   "metadata": {
    "collapsed": false
   },
   "outputs": [
    {
     "data": {
      "text/plain": [
       "[(1, 2, 3, 4, 5, 6, 7), (0.001, 0.001, 0.003, 0.03, 0.375, 10.083, 182.196)]"
      ]
     },
     "execution_count": 54,
     "metadata": {},
     "output_type": "execute_result"
    }
   ],
   "source": [
    "rosette\n",
    "native"
   ]
  },
  {
   "cell_type": "code",
   "execution_count": 55,
   "metadata": {
    "collapsed": false
   },
   "outputs": [
    {
     "data": {
      "image/png": "[encoded data removed]",
      "text/plain": [
       "<matplotlib.figure.Figure at 0x10e36c208>"
      ]
     },
     "metadata": {},
     "output_type": "display_data"
    }
   ],
   "source": [
    "%matplotlib inline\n",
    "import matplotlib.pyplot as plt\n",
    "\n",
    "fig, ax = plt.subplots(figsize=(6,2))\n",
    "\n",
    "# ax.plot(rosette[0], rosette[1], color='red')\n",
    "# ax.plot(native[0],  native[1],  color='blue')\n",
    "ax.scatter(rosette[0], rosette[1], color='red')\n",
    "ax.scatter(native[0],  native[1],  color='blue')\n",
    "\n",
    "ax.set_xlabel(\"relations\")\n",
    "ax.set_ylabel(\"time (s)\")\n",
    "None\n",
    "\n",
    "l = [\n",
    "    \"import numpy as np\\n\",\n",
    "    \"\\n\",\n",
    "    \"fig, ax = plt.subplots(figsize=(6,2))\\n\",\n",
    "    \"\\n\",\n",
    "    \"ax.set_xlabel(\\\"chunks\\\")\\n\",\n",
    "    \"ax.set_ylabel(\\\"time (min)\\\")\\n\",\n",
    "    \"\\n\",\n",
    "    \"ax.scatter(list(range(1, len(tsInd)+1)), tsInd,color='red')\\n\",\n",
    "    \"ax.scatter(list(range(1, len(tsInc)+1)), tsInc,color='blue')\\n\",\n",
    "    \"ax.scatter(list(range(1, len(tsAll)+1)), tsAll,color='green')\\n\",\n",
    "    \"\\n\",\n",
    "    \"ax.plot(list(range(1, len(tsInd)+1)), tsInd,color='red', linestyle=\\\":\\\")\\n\",\n",
    "    \"ax.plot(list(range(1, len(tsInc)+1)), tsInc,color='blue', linestyle=\\\"--\\\")\\n\",\n",
    "    \"ax.plot(list(range(1, len(tsAll)+1)), tsAll,color='green', linestyle=\\\"-\\\")\\n\",\n",
    "    \"\\n\",\n",
    "    \"ax.set_ylim([0, 100])\\n\",\n",
    "    \"ax.set_xlim([0, 16])\\n\",\n",
    "    \"ax.legend(['independent', 'incremental', 'monolithic'], loc=2)\\n\",\n",
    "    \"\\n\",\n",
    "    \"# ax.set_aspect(0.07)\\n\",\n",
    "    \"fig.savefig('performance.pdf', format='pdf')\\n\",\n",
    "    \"\\n\",\n",
    "    \"None\"\n",
    "]"
   ]
  },
  {
   "cell_type": "code",
   "execution_count": null,
   "metadata": {
    "collapsed": true
   },
   "outputs": [],
   "source": []
  },
  {
   "cell_type": "code",
   "execution_count": null,
   "metadata": {
    "collapsed": true
   },
   "outputs": [],
   "source": []
  },
  {
   "cell_type": "code",
   "execution_count": null,
   "metadata": {
    "collapsed": true
   },
   "outputs": [],
   "source": []
  }
 ],
 "metadata": {
  "kernelspec": {
   "display_name": "Python 3",
   "language": "python",
   "name": "python3"
  },
  "language_info": {
   "codemirror_mode": {
    "name": "ipython",
    "version": 3
   },
   "file_extension": ".py",
   "mimetype": "text/x-python",
   "name": "python",
   "nbconvert_exporter": "python",
   "pygments_lexer": "ipython3",
   "version": "3.5.2"
  }
 },
 "nbformat": 4,
 "nbformat_minor": 0
}
